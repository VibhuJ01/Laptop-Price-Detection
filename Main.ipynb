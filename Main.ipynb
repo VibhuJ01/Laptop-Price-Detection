{
 "cells": [
  {
   "cell_type": "markdown",
   "id": "e041a3bc",
   "metadata": {},
   "source": [
    "# Laptop Price Prediction"
   ]
  },
  {
   "cell_type": "code",
   "execution_count": 1,
   "id": "42154791",
   "metadata": {},
   "outputs": [],
   "source": [
    "import pandas as pd\n",
    "import numpy as np"
   ]
  },
  {
   "cell_type": "markdown",
   "id": "a33b22df",
   "metadata": {},
   "source": [
    "## Importing Database"
   ]
  },
  {
   "cell_type": "code",
   "execution_count": 2,
   "id": "a0b78a70",
   "metadata": {},
   "outputs": [
    {
     "data": {
      "text/html": [
       "<div>\n",
       "<style scoped>\n",
       "    .dataframe tbody tr th:only-of-type {\n",
       "        vertical-align: middle;\n",
       "    }\n",
       "\n",
       "    .dataframe tbody tr th {\n",
       "        vertical-align: top;\n",
       "    }\n",
       "\n",
       "    .dataframe thead th {\n",
       "        text-align: right;\n",
       "    }\n",
       "</style>\n",
       "<table border=\"1\" class=\"dataframe\">\n",
       "  <thead>\n",
       "    <tr style=\"text-align: right;\">\n",
       "      <th></th>\n",
       "      <th>ProductName</th>\n",
       "      <th>Stars</th>\n",
       "      <th>Ratings</th>\n",
       "      <th>Reviews</th>\n",
       "      <th>Current_Price</th>\n",
       "      <th>MRP</th>\n",
       "      <th>Proccessor</th>\n",
       "      <th>Ram</th>\n",
       "      <th>Storage</th>\n",
       "    </tr>\n",
       "  </thead>\n",
       "  <tbody>\n",
       "    <tr>\n",
       "      <th>0</th>\n",
       "      <td>Lenovo IdeaPad 3 Core i3 10th Gen</td>\n",
       "      <td>4.3</td>\n",
       "      <td>8</td>\n",
       "      <td>0</td>\n",
       "      <td>31990</td>\n",
       "      <td>53790</td>\n",
       "      <td>Intel Core i3 Processor (10th Gen)</td>\n",
       "      <td>4 GB DDR4 RAM</td>\n",
       "      <td>256 GB SSD</td>\n",
       "    </tr>\n",
       "    <tr>\n",
       "      <th>1</th>\n",
       "      <td>ASUS VivoBook 15 (2022) Core i3 10th Gen</td>\n",
       "      <td>4.3</td>\n",
       "      <td>9970</td>\n",
       "      <td>999</td>\n",
       "      <td>32990</td>\n",
       "      <td>45990</td>\n",
       "      <td>Intel Core i3 Processor (10th Gen)</td>\n",
       "      <td>8 GB DDR4 RAM</td>\n",
       "      <td>512 GB SSD</td>\n",
       "    </tr>\n",
       "    <tr>\n",
       "      <th>2</th>\n",
       "      <td>HP Pavilion Ryzen 5 Hexa Core AMD R5</td>\n",
       "      <td>4.4</td>\n",
       "      <td>11854</td>\n",
       "      <td>1199</td>\n",
       "      <td>52990</td>\n",
       "      <td>63539</td>\n",
       "      <td>AMD Ryzen 5 Hexa Core Processor</td>\n",
       "      <td>8 GB DDR4 RAM</td>\n",
       "      <td>512 GB SSD</td>\n",
       "    </tr>\n",
       "    <tr>\n",
       "      <th>3</th>\n",
       "      <td>Lenovo Intel Celeron Dual Core</td>\n",
       "      <td>4.1</td>\n",
       "      <td>366</td>\n",
       "      <td>35</td>\n",
       "      <td>28490</td>\n",
       "      <td>40490</td>\n",
       "      <td>Intel Celeron Dual Core Processor</td>\n",
       "      <td>8 GB DDR4 RAM</td>\n",
       "      <td>256 GB SSD</td>\n",
       "    </tr>\n",
       "    <tr>\n",
       "      <th>4</th>\n",
       "      <td>ASUS TUF Gaming A17 with 90Whr Battery Ryzen 5...</td>\n",
       "      <td>4.4</td>\n",
       "      <td>1340</td>\n",
       "      <td>166</td>\n",
       "      <td>63990</td>\n",
       "      <td>71990</td>\n",
       "      <td>AMD Ryzen 5 Hexa Core Processor</td>\n",
       "      <td>8 GB DDR4 RAM</td>\n",
       "      <td>512 GB SSD</td>\n",
       "    </tr>\n",
       "  </tbody>\n",
       "</table>\n",
       "</div>"
      ],
      "text/plain": [
       "                                         ProductName  Stars  Ratings  Reviews  \\\n",
       "0                  Lenovo IdeaPad 3 Core i3 10th Gen    4.3        8        0   \n",
       "1           ASUS VivoBook 15 (2022) Core i3 10th Gen    4.3     9970      999   \n",
       "2               HP Pavilion Ryzen 5 Hexa Core AMD R5    4.4    11854     1199   \n",
       "3                     Lenovo Intel Celeron Dual Core    4.1      366       35   \n",
       "4  ASUS TUF Gaming A17 with 90Whr Battery Ryzen 5...    4.4     1340      166   \n",
       "\n",
       "   Current_Price    MRP                          Proccessor            Ram  \\\n",
       "0          31990  53790  Intel Core i3 Processor (10th Gen)  4 GB DDR4 RAM   \n",
       "1          32990  45990  Intel Core i3 Processor (10th Gen)  8 GB DDR4 RAM   \n",
       "2          52990  63539     AMD Ryzen 5 Hexa Core Processor  8 GB DDR4 RAM   \n",
       "3          28490  40490   Intel Celeron Dual Core Processor  8 GB DDR4 RAM   \n",
       "4          63990  71990     AMD Ryzen 5 Hexa Core Processor  8 GB DDR4 RAM   \n",
       "\n",
       "      Storage  \n",
       "0  256 GB SSD  \n",
       "1  512 GB SSD  \n",
       "2  512 GB SSD  \n",
       "3  256 GB SSD  \n",
       "4  512 GB SSD  "
      ]
     },
     "execution_count": 2,
     "metadata": {},
     "output_type": "execute_result"
    }
   ],
   "source": [
    "df = pd.read_csv('data.csv')\n",
    "df.head()"
   ]
  },
  {
   "cell_type": "code",
   "execution_count": 3,
   "id": "64ceee91",
   "metadata": {},
   "outputs": [
    {
     "data": {
      "text/plain": [
       "(680, 9)"
      ]
     },
     "execution_count": 3,
     "metadata": {},
     "output_type": "execute_result"
    }
   ],
   "source": [
    "df.shape"
   ]
  },
  {
   "cell_type": "code",
   "execution_count": 4,
   "id": "3d2365c7",
   "metadata": {},
   "outputs": [
    {
     "name": "stdout",
     "output_type": "stream",
     "text": [
      "<class 'pandas.core.frame.DataFrame'>\n",
      "RangeIndex: 680 entries, 0 to 679\n",
      "Data columns (total 9 columns):\n",
      " #   Column         Non-Null Count  Dtype  \n",
      "---  ------         --------------  -----  \n",
      " 0   ProductName    680 non-null    object \n",
      " 1   Stars          680 non-null    float64\n",
      " 2   Ratings        680 non-null    int64  \n",
      " 3   Reviews        680 non-null    int64  \n",
      " 4   Current_Price  680 non-null    int64  \n",
      " 5   MRP            680 non-null    int64  \n",
      " 6   Proccessor     680 non-null    object \n",
      " 7   Ram            680 non-null    object \n",
      " 8   Storage        679 non-null    object \n",
      "dtypes: float64(1), int64(4), object(4)\n",
      "memory usage: 47.9+ KB\n"
     ]
    }
   ],
   "source": [
    "df.info()"
   ]
  },
  {
   "cell_type": "markdown",
   "id": "367c1cf3",
   "metadata": {},
   "source": [
    "## Data Preprocessing"
   ]
  },
  {
   "cell_type": "markdown",
   "id": "d9599646",
   "metadata": {},
   "source": [
    "### Preprocessing of Column Ram"
   ]
  },
  {
   "cell_type": "code",
   "execution_count": 5,
   "id": "53d9b7e7",
   "metadata": {},
   "outputs": [
    {
     "data": {
      "text/plain": [
       "8 GB DDR4 RAM                                            403\n",
       "4 GB DDR4 RAM                                             97\n",
       "16 GB DDR4 RAM                                            68\n",
       "8 GB LPDDR4X RAM                                          26\n",
       "Microsoft Office 2019 Home & Student Included             23\n",
       "4 GB LPDDR4 RAM                                           11\n",
       "16 GB LPDDR4X RAM                                          8\n",
       "4 GB LPDDR4X RAM                                           5\n",
       "RAM & Storage: 8GB DDR4 & 512GB SSD                        4\n",
       " Free Automated Updates                                    4\n",
       "4 GB DDR3 RAM                                              4\n",
       "8 GB DDR3 RAM                                              3\n",
       "RAM & Storage: 8GB DDR4 (2 DIMM Slots) & 512GB SSD         2\n",
       "15.6 Inch Full HD OLED 16:9 aspect ratio                   2\n",
       "14 inch 2K QHD                                             2\n",
       "16 GB LPDDR5 RAM                                           1\n",
       "15.6 inches Full HD                                        1\n",
       "64 GB DDR4 RAM                                             1\n",
       "Preloaded Microsoft Office Home and Student 2016           1\n",
       "RAM & Storage: 8GB DDR4 & 256GB SSD                        1\n",
       "RAM & Storage: 8GB DDR4 & 1TB + 256GB SSD                  1\n",
       "RAM & Storage: 16GB DDR4 (2 DIMM Slots) 512GB SSD          1\n",
       " up to 4.2 GHz)                                            1\n",
       " 6 Cores & 10 MB CPU Cache                                 1\n",
       "8 GB DDR5 RAM                                              1\n",
       "Intel Core i7 Processor (7th Gen)                          1\n",
       "NVIDIA Geforce GTX 1050 for Desktop Level Performance      1\n",
       " 6 Cores                                                   1\n",
       "RAM & Storage: 8GB DDR4                                    1\n",
       "15.6 inch Full HD AG Display (250 nits Brightness          1\n",
       "AMD Ryzen 5 Hexa Core Processor                            1\n",
       "RAM & Storage: 8GB DDR4 (2 DIMM Slots) & 1TB HDD           1\n",
       "Intel Core i5 Processor (11th Gen)                         1\n",
       "Name: Ram, dtype: int64"
      ]
     },
     "execution_count": 5,
     "metadata": {},
     "output_type": "execute_result"
    }
   ],
   "source": [
    "df['Ram'].value_counts()"
   ]
  },
  {
   "cell_type": "code",
   "execution_count": 6,
   "id": "ca06d463",
   "metadata": {},
   "outputs": [],
   "source": [
    "df['Ram'] = np.where(df['Ram']=='8 GB LPDDR4X RAM', '8 GB DDR4 RAM', df['Ram'])\n",
    "df['Ram'] = np.where(df['Ram']=='4 GB LPDDR4X RAM', '4 GB DDR4 RAM', df['Ram'])\n",
    "df['Ram'] = np.where(df['Ram']=='16 GB LPDDR4X RAM', '16 GB DDR4 RAM', df['Ram'])\n",
    "df['Ram'] = np.where(df['Ram']=='4 GB LPDDR4 RAM', '4 GB DDR4 RAM', df['Ram'])\n",
    "\n",
    "df['Ram'] = np.where(df['Ram']=='8 GB DDR4 RAM', '8', df['Ram'])\n",
    "df['Ram'] = np.where(df['Ram']=='4 GB DDR4 RAM', '4', df['Ram'])\n",
    "df['Ram'] = np.where(df['Ram']=='16 GB DDR4 RAM', '16', df['Ram'])"
   ]
  },
  {
   "cell_type": "code",
   "execution_count": 7,
   "id": "fc018ac7",
   "metadata": {},
   "outputs": [],
   "source": [
    "for i in df['Ram']:\n",
    "    if(i != '8' and i != '4' and i != '16'):\n",
    "        df.drop(df.index[(df[\"Ram\"] == i)],axis=0,inplace=True)"
   ]
  },
  {
   "cell_type": "code",
   "execution_count": 8,
   "id": "b5d8ed6e",
   "metadata": {},
   "outputs": [
    {
     "data": {
      "text/plain": [
       "8     429\n",
       "4     113\n",
       "16     76\n",
       "Name: Ram, dtype: int64"
      ]
     },
     "execution_count": 8,
     "metadata": {},
     "output_type": "execute_result"
    }
   ],
   "source": [
    "df['Ram'].value_counts()"
   ]
  },
  {
   "cell_type": "markdown",
   "id": "b233c893",
   "metadata": {},
   "source": [
    "### Preprocessing of Column Storage"
   ]
  },
  {
   "cell_type": "code",
   "execution_count": 9,
   "id": "c0d24796",
   "metadata": {},
   "outputs": [
    {
     "data": {
      "text/plain": [
       "512 GB SSD                                  336\n",
       "256 GB SSD                                  146\n",
       "1 TB HDD                                     56\n",
       "1 TB HDD|256 GB SSD                          36\n",
       "128 GB SSD                                   10\n",
       "1 TB SSD                                     10\n",
       "29.46 cm (11.6 inch) Touchscreen Display      5\n",
       "29.46 cm (11.6 inch) Display                  5\n",
       "29.46 cm (11.6 Inch) Display                  4\n",
       "35.56 cm (14 inch) Touchscreen Display        2\n",
       "256 GB HDD                                    2\n",
       "35.56 cm (14 inch) Display                    2\n",
       "512 GB HDD|512 GB SSD                         1\n",
       "1 TB HDD|512 GB SSD                           1\n",
       "2 TB HDD                                      1\n",
       "35.56 cm (14 Inch) Touchscreen Display        1\n",
       "Name: Storage, dtype: int64"
      ]
     },
     "execution_count": 9,
     "metadata": {},
     "output_type": "execute_result"
    }
   ],
   "source": [
    "df['Storage'].value_counts()"
   ]
  },
  {
   "cell_type": "code",
   "execution_count": 10,
   "id": "b7e8f0e5",
   "metadata": {},
   "outputs": [],
   "source": [
    "df['Storage'] = np.where(df['Storage']=='1 TB HDD', '1024 GB HDD', df['Storage'])\n",
    "df['Storage'] = np.where(df['Storage']=='1 TB SSD', '1024 GB SSD', df['Storage'])"
   ]
  },
  {
   "cell_type": "code",
   "execution_count": 11,
   "id": "b10d603e",
   "metadata": {},
   "outputs": [],
   "source": [
    "for i in df['Storage']:\n",
    "    if(i != '512 GB SSD' and i != '256 GB SSD' and i != '1024 GB HDD' and i != '1024 GB SSD' and i != '128 GB SSD'):\n",
    "        df.drop(df.index[(df[\"Storage\"] == i)],axis=0,inplace=True)"
   ]
  },
  {
   "cell_type": "code",
   "execution_count": 12,
   "id": "4b6acc02",
   "metadata": {},
   "outputs": [
    {
     "data": {
      "text/plain": [
       "512 GB SSD     336\n",
       "256 GB SSD     146\n",
       "1024 GB HDD     56\n",
       "128 GB SSD      10\n",
       "1024 GB SSD     10\n",
       "Name: Storage, dtype: int64"
      ]
     },
     "execution_count": 12,
     "metadata": {},
     "output_type": "execute_result"
    }
   ],
   "source": [
    "df['Storage'].value_counts()"
   ]
  },
  {
   "cell_type": "markdown",
   "id": "2119fd71",
   "metadata": {},
   "source": [
    "### Preprocessing of Column Processor"
   ]
  },
  {
   "cell_type": "code",
   "execution_count": 13,
   "id": "c58635fe",
   "metadata": {},
   "outputs": [
    {
     "data": {
      "text/plain": [
       "Intel Core i3 Processor (11th Gen)              100\n",
       "AMD Ryzen 5 Hexa Core Processor                  83\n",
       "Intel Core i5 Processor (11th Gen)               73\n",
       "Intel Core i3 Processor (10th Gen)               70\n",
       "AMD Ryzen 3 Dual Core Processor                  33\n",
       "Intel Core i5 Processor (12th Gen)               32\n",
       "Intel Core i5 Processor (10th Gen)               28\n",
       "AMD Ryzen 7 Octa Core Processor                  17\n",
       "Intel Celeron Dual Core Processor                14\n",
       "AMD Ryzen 5 Quad Core Processor                  14\n",
       "Intel Core i3 Processor (12th Gen)               12\n",
       "Intel Core i5 Processor (8th Gen)                11\n",
       "AMD Athlon Dual Core Processor                    9\n",
       "Intel Pentium Quad Core Processor                 9\n",
       "AMD Ryzen 3 Quad Core Processor                   8\n",
       "Intel Core i7 Processor (10th Gen)                6\n",
       "Intel Pentium Silver Processor                    4\n",
       "Intel Celeron Quad Core Processor                 3\n",
       "Intel Core i5 Processor (7th Gen)                 3\n",
       "AMD APU Dual Core A6 Processor                    3\n",
       "AMD Ryzen 7 Quad Core Processor                   3\n",
       "Intel Core i7 Processor (11th Gen)                2\n",
       "AMD Dual Core Processor                           2\n",
       "AMD Ryzen 5 Hexa Core Processor (10th Gen)        2\n",
       "AMD Ryzen 3 Dual Core Processor (3rd Gen)         2\n",
       "Intel Core i5 Processor (9th Gen)                 2\n",
       "Intel Pentium Quad Core Processor (10th Gen)      1\n",
       "AMD APU Dual Core A9 Processor                    1\n",
       "AMD Ryzen 5 Quad Core Processor (3rd Gen)         1\n",
       "AMD Ryzen 7 Octa Core Processor (10th Gen)        1\n",
       "AMD Ryzen 7 Dual Core Processor (11th Gen)        1\n",
       "Intel Core i7 Processor (12th Gen)                1\n",
       "Intel Pentium Quad Core Processor (11th Gen)      1\n",
       "AMD Ryzen 7 Hexa Core Processor                   1\n",
       "AMD Ryzen 3 Quad Core Processor (5th Gen)         1\n",
       "AMD Ryzen 3 Hexa Core Processor (4th Gen)         1\n",
       "AMD Ryzen 5 Dual Core Processor (5th Gen)         1\n",
       "Intel Celeron Dual Core Processor (4th Gen)       1\n",
       "Intel Core i3 Processor (8th Gen)                 1\n",
       "Name: Proccessor, dtype: int64"
      ]
     },
     "execution_count": 13,
     "metadata": {},
     "output_type": "execute_result"
    }
   ],
   "source": [
    "df['Proccessor'].value_counts()"
   ]
  },
  {
   "cell_type": "code",
   "execution_count": 14,
   "id": "218c9770",
   "metadata": {},
   "outputs": [],
   "source": [
    "for i in df['Proccessor']:\n",
    "    l = ['Intel Core i3 Processor (11th Gen)  ','AMD Ryzen 5 Hexa Core Processor','Intel Core i5 Processor (11th Gen)','Intel Core i3 Processor (10th Gen)','AMD Ryzen 3 Dual Core Processor','Intel Core i5 Processor (12th Gen)','Intel Core i5 Processor (10th Gen)','AMD Ryzen 7 Octa Core Processor','Intel Celeron Dual Core Processor','AMD Ryzen 5 Quad Core Processor','Intel Core i3 Processor (12th Gen)','Intel Core i5 Processor (8th Gen)']\n",
    "    if(i not in l):\n",
    "        df.drop(df.index[(df[\"Proccessor\"] == i)],axis=0,inplace=True)"
   ]
  },
  {
   "cell_type": "code",
   "execution_count": 15,
   "id": "4cf3d486",
   "metadata": {},
   "outputs": [
    {
     "data": {
      "text/plain": [
       "(387, 9)"
      ]
     },
     "execution_count": 15,
     "metadata": {},
     "output_type": "execute_result"
    }
   ],
   "source": [
    "df.shape"
   ]
  },
  {
   "cell_type": "code",
   "execution_count": 16,
   "id": "6e67807c",
   "metadata": {},
   "outputs": [
    {
     "data": {
      "text/html": [
       "<div>\n",
       "<style scoped>\n",
       "    .dataframe tbody tr th:only-of-type {\n",
       "        vertical-align: middle;\n",
       "    }\n",
       "\n",
       "    .dataframe tbody tr th {\n",
       "        vertical-align: top;\n",
       "    }\n",
       "\n",
       "    .dataframe thead th {\n",
       "        text-align: right;\n",
       "    }\n",
       "</style>\n",
       "<table border=\"1\" class=\"dataframe\">\n",
       "  <thead>\n",
       "    <tr style=\"text-align: right;\">\n",
       "      <th></th>\n",
       "      <th>ProductName</th>\n",
       "      <th>Stars</th>\n",
       "      <th>Ratings</th>\n",
       "      <th>Reviews</th>\n",
       "      <th>Current_Price</th>\n",
       "      <th>MRP</th>\n",
       "      <th>Proccessor</th>\n",
       "      <th>Ram</th>\n",
       "      <th>Storage</th>\n",
       "    </tr>\n",
       "  </thead>\n",
       "  <tbody>\n",
       "    <tr>\n",
       "      <th>0</th>\n",
       "      <td>Lenovo IdeaPad 3 Core i3 10th Gen</td>\n",
       "      <td>4.3</td>\n",
       "      <td>8</td>\n",
       "      <td>0</td>\n",
       "      <td>31990</td>\n",
       "      <td>53790</td>\n",
       "      <td>Intel Core i3 Processor (10th Gen)</td>\n",
       "      <td>4</td>\n",
       "      <td>256 GB SSD</td>\n",
       "    </tr>\n",
       "    <tr>\n",
       "      <th>1</th>\n",
       "      <td>ASUS VivoBook 15 (2022) Core i3 10th Gen</td>\n",
       "      <td>4.3</td>\n",
       "      <td>9970</td>\n",
       "      <td>999</td>\n",
       "      <td>32990</td>\n",
       "      <td>45990</td>\n",
       "      <td>Intel Core i3 Processor (10th Gen)</td>\n",
       "      <td>8</td>\n",
       "      <td>512 GB SSD</td>\n",
       "    </tr>\n",
       "    <tr>\n",
       "      <th>2</th>\n",
       "      <td>HP Pavilion Ryzen 5 Hexa Core AMD R5</td>\n",
       "      <td>4.4</td>\n",
       "      <td>11854</td>\n",
       "      <td>1199</td>\n",
       "      <td>52990</td>\n",
       "      <td>63539</td>\n",
       "      <td>AMD Ryzen 5 Hexa Core Processor</td>\n",
       "      <td>8</td>\n",
       "      <td>512 GB SSD</td>\n",
       "    </tr>\n",
       "    <tr>\n",
       "      <th>3</th>\n",
       "      <td>Lenovo Intel Celeron Dual Core</td>\n",
       "      <td>4.1</td>\n",
       "      <td>366</td>\n",
       "      <td>35</td>\n",
       "      <td>28490</td>\n",
       "      <td>40490</td>\n",
       "      <td>Intel Celeron Dual Core Processor</td>\n",
       "      <td>8</td>\n",
       "      <td>256 GB SSD</td>\n",
       "    </tr>\n",
       "    <tr>\n",
       "      <th>4</th>\n",
       "      <td>ASUS TUF Gaming A17 with 90Whr Battery Ryzen 5...</td>\n",
       "      <td>4.4</td>\n",
       "      <td>1340</td>\n",
       "      <td>166</td>\n",
       "      <td>63990</td>\n",
       "      <td>71990</td>\n",
       "      <td>AMD Ryzen 5 Hexa Core Processor</td>\n",
       "      <td>8</td>\n",
       "      <td>512 GB SSD</td>\n",
       "    </tr>\n",
       "  </tbody>\n",
       "</table>\n",
       "</div>"
      ],
      "text/plain": [
       "                                         ProductName  Stars  Ratings  Reviews  \\\n",
       "0                  Lenovo IdeaPad 3 Core i3 10th Gen    4.3        8        0   \n",
       "1           ASUS VivoBook 15 (2022) Core i3 10th Gen    4.3     9970      999   \n",
       "2               HP Pavilion Ryzen 5 Hexa Core AMD R5    4.4    11854     1199   \n",
       "3                     Lenovo Intel Celeron Dual Core    4.1      366       35   \n",
       "4  ASUS TUF Gaming A17 with 90Whr Battery Ryzen 5...    4.4     1340      166   \n",
       "\n",
       "   Current_Price    MRP                          Proccessor Ram     Storage  \n",
       "0          31990  53790  Intel Core i3 Processor (10th Gen)   4  256 GB SSD  \n",
       "1          32990  45990  Intel Core i3 Processor (10th Gen)   8  512 GB SSD  \n",
       "2          52990  63539     AMD Ryzen 5 Hexa Core Processor   8  512 GB SSD  \n",
       "3          28490  40490   Intel Celeron Dual Core Processor   8  256 GB SSD  \n",
       "4          63990  71990     AMD Ryzen 5 Hexa Core Processor   8  512 GB SSD  "
      ]
     },
     "execution_count": 16,
     "metadata": {},
     "output_type": "execute_result"
    }
   ],
   "source": [
    "df.head()"
   ]
  },
  {
   "cell_type": "code",
   "execution_count": 17,
   "id": "214d1265",
   "metadata": {},
   "outputs": [],
   "source": [
    "df = df.drop(columns =['ProductName','Reviews','MRP','Ratings','Stars'])\n",
    "dfclean = pd.get_dummies(df)"
   ]
  },
  {
   "cell_type": "code",
   "execution_count": 18,
   "id": "de8e2857",
   "metadata": {},
   "outputs": [
    {
     "data": {
      "text/plain": [
       "(387, 20)"
      ]
     },
     "execution_count": 18,
     "metadata": {},
     "output_type": "execute_result"
    }
   ],
   "source": [
    "dfclean.shape"
   ]
  },
  {
   "cell_type": "code",
   "execution_count": 19,
   "id": "854bdd29",
   "metadata": {},
   "outputs": [
    {
     "data": {
      "text/html": [
       "<div>\n",
       "<style scoped>\n",
       "    .dataframe tbody tr th:only-of-type {\n",
       "        vertical-align: middle;\n",
       "    }\n",
       "\n",
       "    .dataframe tbody tr th {\n",
       "        vertical-align: top;\n",
       "    }\n",
       "\n",
       "    .dataframe thead th {\n",
       "        text-align: right;\n",
       "    }\n",
       "</style>\n",
       "<table border=\"1\" class=\"dataframe\">\n",
       "  <thead>\n",
       "    <tr style=\"text-align: right;\">\n",
       "      <th></th>\n",
       "      <th>Current_Price</th>\n",
       "      <th>Proccessor_AMD Ryzen 3 Dual Core Processor</th>\n",
       "      <th>Proccessor_AMD Ryzen 5 Hexa Core Processor</th>\n",
       "      <th>Proccessor_AMD Ryzen 5 Quad Core Processor</th>\n",
       "      <th>Proccessor_AMD Ryzen 7 Octa Core Processor</th>\n",
       "      <th>Proccessor_Intel Celeron Dual Core Processor</th>\n",
       "      <th>Proccessor_Intel Core i3 Processor (10th Gen)</th>\n",
       "      <th>Proccessor_Intel Core i3 Processor (12th Gen)</th>\n",
       "      <th>Proccessor_Intel Core i5 Processor (10th Gen)</th>\n",
       "      <th>Proccessor_Intel Core i5 Processor (11th Gen)</th>\n",
       "      <th>Proccessor_Intel Core i5 Processor (12th Gen)</th>\n",
       "      <th>Proccessor_Intel Core i5 Processor (8th Gen)</th>\n",
       "      <th>Ram_16</th>\n",
       "      <th>Ram_4</th>\n",
       "      <th>Ram_8</th>\n",
       "      <th>Storage_1024 GB HDD</th>\n",
       "      <th>Storage_1024 GB SSD</th>\n",
       "      <th>Storage_128 GB SSD</th>\n",
       "      <th>Storage_256 GB SSD</th>\n",
       "      <th>Storage_512 GB SSD</th>\n",
       "    </tr>\n",
       "  </thead>\n",
       "  <tbody>\n",
       "    <tr>\n",
       "      <th>0</th>\n",
       "      <td>31990</td>\n",
       "      <td>0</td>\n",
       "      <td>0</td>\n",
       "      <td>0</td>\n",
       "      <td>0</td>\n",
       "      <td>0</td>\n",
       "      <td>1</td>\n",
       "      <td>0</td>\n",
       "      <td>0</td>\n",
       "      <td>0</td>\n",
       "      <td>0</td>\n",
       "      <td>0</td>\n",
       "      <td>0</td>\n",
       "      <td>1</td>\n",
       "      <td>0</td>\n",
       "      <td>0</td>\n",
       "      <td>0</td>\n",
       "      <td>0</td>\n",
       "      <td>1</td>\n",
       "      <td>0</td>\n",
       "    </tr>\n",
       "    <tr>\n",
       "      <th>1</th>\n",
       "      <td>32990</td>\n",
       "      <td>0</td>\n",
       "      <td>0</td>\n",
       "      <td>0</td>\n",
       "      <td>0</td>\n",
       "      <td>0</td>\n",
       "      <td>1</td>\n",
       "      <td>0</td>\n",
       "      <td>0</td>\n",
       "      <td>0</td>\n",
       "      <td>0</td>\n",
       "      <td>0</td>\n",
       "      <td>0</td>\n",
       "      <td>0</td>\n",
       "      <td>1</td>\n",
       "      <td>0</td>\n",
       "      <td>0</td>\n",
       "      <td>0</td>\n",
       "      <td>0</td>\n",
       "      <td>1</td>\n",
       "    </tr>\n",
       "    <tr>\n",
       "      <th>2</th>\n",
       "      <td>52990</td>\n",
       "      <td>0</td>\n",
       "      <td>1</td>\n",
       "      <td>0</td>\n",
       "      <td>0</td>\n",
       "      <td>0</td>\n",
       "      <td>0</td>\n",
       "      <td>0</td>\n",
       "      <td>0</td>\n",
       "      <td>0</td>\n",
       "      <td>0</td>\n",
       "      <td>0</td>\n",
       "      <td>0</td>\n",
       "      <td>0</td>\n",
       "      <td>1</td>\n",
       "      <td>0</td>\n",
       "      <td>0</td>\n",
       "      <td>0</td>\n",
       "      <td>0</td>\n",
       "      <td>1</td>\n",
       "    </tr>\n",
       "    <tr>\n",
       "      <th>3</th>\n",
       "      <td>28490</td>\n",
       "      <td>0</td>\n",
       "      <td>0</td>\n",
       "      <td>0</td>\n",
       "      <td>0</td>\n",
       "      <td>1</td>\n",
       "      <td>0</td>\n",
       "      <td>0</td>\n",
       "      <td>0</td>\n",
       "      <td>0</td>\n",
       "      <td>0</td>\n",
       "      <td>0</td>\n",
       "      <td>0</td>\n",
       "      <td>0</td>\n",
       "      <td>1</td>\n",
       "      <td>0</td>\n",
       "      <td>0</td>\n",
       "      <td>0</td>\n",
       "      <td>1</td>\n",
       "      <td>0</td>\n",
       "    </tr>\n",
       "    <tr>\n",
       "      <th>4</th>\n",
       "      <td>63990</td>\n",
       "      <td>0</td>\n",
       "      <td>1</td>\n",
       "      <td>0</td>\n",
       "      <td>0</td>\n",
       "      <td>0</td>\n",
       "      <td>0</td>\n",
       "      <td>0</td>\n",
       "      <td>0</td>\n",
       "      <td>0</td>\n",
       "      <td>0</td>\n",
       "      <td>0</td>\n",
       "      <td>0</td>\n",
       "      <td>0</td>\n",
       "      <td>1</td>\n",
       "      <td>0</td>\n",
       "      <td>0</td>\n",
       "      <td>0</td>\n",
       "      <td>0</td>\n",
       "      <td>1</td>\n",
       "    </tr>\n",
       "  </tbody>\n",
       "</table>\n",
       "</div>"
      ],
      "text/plain": [
       "   Current_Price  Proccessor_AMD Ryzen 3 Dual Core Processor  \\\n",
       "0          31990                                           0   \n",
       "1          32990                                           0   \n",
       "2          52990                                           0   \n",
       "3          28490                                           0   \n",
       "4          63990                                           0   \n",
       "\n",
       "   Proccessor_AMD Ryzen 5 Hexa Core Processor  \\\n",
       "0                                           0   \n",
       "1                                           0   \n",
       "2                                           1   \n",
       "3                                           0   \n",
       "4                                           1   \n",
       "\n",
       "   Proccessor_AMD Ryzen 5 Quad Core Processor  \\\n",
       "0                                           0   \n",
       "1                                           0   \n",
       "2                                           0   \n",
       "3                                           0   \n",
       "4                                           0   \n",
       "\n",
       "   Proccessor_AMD Ryzen 7 Octa Core Processor  \\\n",
       "0                                           0   \n",
       "1                                           0   \n",
       "2                                           0   \n",
       "3                                           0   \n",
       "4                                           0   \n",
       "\n",
       "   Proccessor_Intel Celeron Dual Core Processor  \\\n",
       "0                                             0   \n",
       "1                                             0   \n",
       "2                                             0   \n",
       "3                                             1   \n",
       "4                                             0   \n",
       "\n",
       "   Proccessor_Intel Core i3 Processor (10th Gen)  \\\n",
       "0                                              1   \n",
       "1                                              1   \n",
       "2                                              0   \n",
       "3                                              0   \n",
       "4                                              0   \n",
       "\n",
       "   Proccessor_Intel Core i3 Processor (12th Gen)  \\\n",
       "0                                              0   \n",
       "1                                              0   \n",
       "2                                              0   \n",
       "3                                              0   \n",
       "4                                              0   \n",
       "\n",
       "   Proccessor_Intel Core i5 Processor (10th Gen)  \\\n",
       "0                                              0   \n",
       "1                                              0   \n",
       "2                                              0   \n",
       "3                                              0   \n",
       "4                                              0   \n",
       "\n",
       "   Proccessor_Intel Core i5 Processor (11th Gen)  \\\n",
       "0                                              0   \n",
       "1                                              0   \n",
       "2                                              0   \n",
       "3                                              0   \n",
       "4                                              0   \n",
       "\n",
       "   Proccessor_Intel Core i5 Processor (12th Gen)  \\\n",
       "0                                              0   \n",
       "1                                              0   \n",
       "2                                              0   \n",
       "3                                              0   \n",
       "4                                              0   \n",
       "\n",
       "   Proccessor_Intel Core i5 Processor (8th Gen)  Ram_16  Ram_4  Ram_8  \\\n",
       "0                                             0       0      1      0   \n",
       "1                                             0       0      0      1   \n",
       "2                                             0       0      0      1   \n",
       "3                                             0       0      0      1   \n",
       "4                                             0       0      0      1   \n",
       "\n",
       "   Storage_1024 GB HDD  Storage_1024 GB SSD  Storage_128 GB SSD  \\\n",
       "0                    0                    0                   0   \n",
       "1                    0                    0                   0   \n",
       "2                    0                    0                   0   \n",
       "3                    0                    0                   0   \n",
       "4                    0                    0                   0   \n",
       "\n",
       "   Storage_256 GB SSD  Storage_512 GB SSD  \n",
       "0                   1                   0  \n",
       "1                   0                   1  \n",
       "2                   0                   1  \n",
       "3                   1                   0  \n",
       "4                   0                   1  "
      ]
     },
     "execution_count": 19,
     "metadata": {},
     "output_type": "execute_result"
    }
   ],
   "source": [
    "dfclean.head()"
   ]
  },
  {
   "cell_type": "markdown",
   "id": "ae9aef0c",
   "metadata": {},
   "source": [
    "## Applying Linear Regression Model"
   ]
  },
  {
   "cell_type": "code",
   "execution_count": 20,
   "id": "da4a9fb8",
   "metadata": {},
   "outputs": [
    {
     "name": "stdout",
     "output_type": "stream",
     "text": [
      "(387, 19)\n",
      "(387,)\n"
     ]
    }
   ],
   "source": [
    "x = dfclean.drop(columns='Current_Price')\n",
    "y = dfclean['Current_Price']\n",
    "\n",
    "print(x.shape)\n",
    "print(y.shape)"
   ]
  },
  {
   "cell_type": "code",
   "execution_count": 21,
   "id": "f7363cfd",
   "metadata": {},
   "outputs": [],
   "source": [
    "from sklearn.linear_model import LinearRegression"
   ]
  },
  {
   "cell_type": "code",
   "execution_count": 22,
   "id": "8d696616",
   "metadata": {},
   "outputs": [],
   "source": [
    "model = LinearRegression()"
   ]
  },
  {
   "cell_type": "code",
   "execution_count": 32,
   "id": "96742559",
   "metadata": {},
   "outputs": [
    {
     "data": {
      "text/html": [
       "<style>#sk-container-id-2 {color: black;background-color: white;}#sk-container-id-2 pre{padding: 0;}#sk-container-id-2 div.sk-toggleable {background-color: white;}#sk-container-id-2 label.sk-toggleable__label {cursor: pointer;display: block;width: 100%;margin-bottom: 0;padding: 0.3em;box-sizing: border-box;text-align: center;}#sk-container-id-2 label.sk-toggleable__label-arrow:before {content: \"▸\";float: left;margin-right: 0.25em;color: #696969;}#sk-container-id-2 label.sk-toggleable__label-arrow:hover:before {color: black;}#sk-container-id-2 div.sk-estimator:hover label.sk-toggleable__label-arrow:before {color: black;}#sk-container-id-2 div.sk-toggleable__content {max-height: 0;max-width: 0;overflow: hidden;text-align: left;background-color: #f0f8ff;}#sk-container-id-2 div.sk-toggleable__content pre {margin: 0.2em;color: black;border-radius: 0.25em;background-color: #f0f8ff;}#sk-container-id-2 input.sk-toggleable__control:checked~div.sk-toggleable__content {max-height: 200px;max-width: 100%;overflow: auto;}#sk-container-id-2 input.sk-toggleable__control:checked~label.sk-toggleable__label-arrow:before {content: \"▾\";}#sk-container-id-2 div.sk-estimator input.sk-toggleable__control:checked~label.sk-toggleable__label {background-color: #d4ebff;}#sk-container-id-2 div.sk-label input.sk-toggleable__control:checked~label.sk-toggleable__label {background-color: #d4ebff;}#sk-container-id-2 input.sk-hidden--visually {border: 0;clip: rect(1px 1px 1px 1px);clip: rect(1px, 1px, 1px, 1px);height: 1px;margin: -1px;overflow: hidden;padding: 0;position: absolute;width: 1px;}#sk-container-id-2 div.sk-estimator {font-family: monospace;background-color: #f0f8ff;border: 1px dotted black;border-radius: 0.25em;box-sizing: border-box;margin-bottom: 0.5em;}#sk-container-id-2 div.sk-estimator:hover {background-color: #d4ebff;}#sk-container-id-2 div.sk-parallel-item::after {content: \"\";width: 100%;border-bottom: 1px solid gray;flex-grow: 1;}#sk-container-id-2 div.sk-label:hover label.sk-toggleable__label {background-color: #d4ebff;}#sk-container-id-2 div.sk-serial::before {content: \"\";position: absolute;border-left: 1px solid gray;box-sizing: border-box;top: 0;bottom: 0;left: 50%;z-index: 0;}#sk-container-id-2 div.sk-serial {display: flex;flex-direction: column;align-items: center;background-color: white;padding-right: 0.2em;padding-left: 0.2em;position: relative;}#sk-container-id-2 div.sk-item {position: relative;z-index: 1;}#sk-container-id-2 div.sk-parallel {display: flex;align-items: stretch;justify-content: center;background-color: white;position: relative;}#sk-container-id-2 div.sk-item::before, #sk-container-id-2 div.sk-parallel-item::before {content: \"\";position: absolute;border-left: 1px solid gray;box-sizing: border-box;top: 0;bottom: 0;left: 50%;z-index: -1;}#sk-container-id-2 div.sk-parallel-item {display: flex;flex-direction: column;z-index: 1;position: relative;background-color: white;}#sk-container-id-2 div.sk-parallel-item:first-child::after {align-self: flex-end;width: 50%;}#sk-container-id-2 div.sk-parallel-item:last-child::after {align-self: flex-start;width: 50%;}#sk-container-id-2 div.sk-parallel-item:only-child::after {width: 0;}#sk-container-id-2 div.sk-dashed-wrapped {border: 1px dashed gray;margin: 0 0.4em 0.5em 0.4em;box-sizing: border-box;padding-bottom: 0.4em;background-color: white;}#sk-container-id-2 div.sk-label label {font-family: monospace;font-weight: bold;display: inline-block;line-height: 1.2em;}#sk-container-id-2 div.sk-label-container {text-align: center;}#sk-container-id-2 div.sk-container {/* jupyter's `normalize.less` sets `[hidden] { display: none; }` but bootstrap.min.css set `[hidden] { display: none !important; }` so we also need the `!important` here to be able to override the default hidden behavior on the sphinx rendered scikit-learn.org. See: https://github.com/scikit-learn/scikit-learn/issues/21755 */display: inline-block !important;position: relative;}#sk-container-id-2 div.sk-text-repr-fallback {display: none;}</style><div id=\"sk-container-id-2\" class=\"sk-top-container\"><div class=\"sk-text-repr-fallback\"><pre>LinearRegression()</pre><b>In a Jupyter environment, please rerun this cell to show the HTML representation or trust the notebook. <br />On GitHub, the HTML representation is unable to render, please try loading this page with nbviewer.org.</b></div><div class=\"sk-container\" hidden><div class=\"sk-item\"><div class=\"sk-estimator sk-toggleable\"><input class=\"sk-toggleable__control sk-hidden--visually\" id=\"sk-estimator-id-2\" type=\"checkbox\" checked><label for=\"sk-estimator-id-2\" class=\"sk-toggleable__label sk-toggleable__label-arrow\">LinearRegression</label><div class=\"sk-toggleable__content\"><pre>LinearRegression()</pre></div></div></div></div></div>"
      ],
      "text/plain": [
       "LinearRegression()"
      ]
     },
     "execution_count": 32,
     "metadata": {},
     "output_type": "execute_result"
    }
   ],
   "source": [
    "model.fit(x, y)"
   ]
  },
  {
   "cell_type": "code",
   "execution_count": 33,
   "id": "3a528748",
   "metadata": {},
   "outputs": [],
   "source": [
    "model = LinearRegression().fit(x, y)"
   ]
  },
  {
   "cell_type": "markdown",
   "id": "608f6af7",
   "metadata": {},
   "source": [
    "## Results"
   ]
  },
  {
   "cell_type": "code",
   "execution_count": 34,
   "id": "949b8c3d",
   "metadata": {},
   "outputs": [
    {
     "name": "stdout",
     "output_type": "stream",
     "text": [
      "coefficient of determination: 0.8175208710659476\n"
     ]
    }
   ],
   "source": [
    "r_sq = model.score(x, y)\n",
    "print(f\"coefficient of determination: {r_sq}\")"
   ]
  },
  {
   "cell_type": "code",
   "execution_count": 35,
   "id": "3fe835c1",
   "metadata": {},
   "outputs": [
    {
     "name": "stdout",
     "output_type": "stream",
     "text": [
      "intercept: -5.016478518415663e+17\n"
     ]
    }
   ],
   "source": [
    "print(f\"intercept: {model.intercept_}\")"
   ]
  },
  {
   "cell_type": "code",
   "execution_count": 36,
   "id": "c4f63605",
   "metadata": {},
   "outputs": [
    {
     "name": "stdout",
     "output_type": "stream",
     "text": [
      "slope: [6.51965537e+16 6.51965537e+16 6.51965537e+16 6.51965537e+16\n",
      " 6.51965537e+16 6.51965537e+16 6.51965537e+16 6.51965537e+16\n",
      " 6.51965537e+16 6.51965537e+16 6.51965537e+16 3.68930078e+17\n",
      " 3.68930078e+17 3.68930078e+17 6.75212202e+16 6.75212202e+16\n",
      " 6.75212202e+16 6.75212202e+16 6.75212202e+16]\n"
     ]
    }
   ],
   "source": [
    "print(f\"slope: {model.coef_}\")"
   ]
  },
  {
   "cell_type": "markdown",
   "id": "edf9f8d0",
   "metadata": {},
   "source": [
    "## Predict Response"
   ]
  },
  {
   "cell_type": "code",
   "execution_count": 37,
   "id": "1168c5c6",
   "metadata": {},
   "outputs": [],
   "source": [
    "y_pred = model.predict(x)"
   ]
  },
  {
   "cell_type": "code",
   "execution_count": 38,
   "id": "28ab96ac",
   "metadata": {},
   "outputs": [],
   "source": [
    "data = list(zip(y, y_pred))"
   ]
  },
  {
   "cell_type": "code",
   "execution_count": 39,
   "id": "5076c639",
   "metadata": {},
   "outputs": [
    {
     "data": {
      "text/html": [
       "<div>\n",
       "<style scoped>\n",
       "    .dataframe tbody tr th:only-of-type {\n",
       "        vertical-align: middle;\n",
       "    }\n",
       "\n",
       "    .dataframe tbody tr th {\n",
       "        vertical-align: top;\n",
       "    }\n",
       "\n",
       "    .dataframe thead th {\n",
       "        text-align: right;\n",
       "    }\n",
       "</style>\n",
       "<table border=\"1\" class=\"dataframe\">\n",
       "  <thead>\n",
       "    <tr style=\"text-align: right;\">\n",
       "      <th></th>\n",
       "      <th>Actual</th>\n",
       "      <th>Predicted</th>\n",
       "    </tr>\n",
       "  </thead>\n",
       "  <tbody>\n",
       "    <tr>\n",
       "      <th>0</th>\n",
       "      <td>31990</td>\n",
       "      <td>32832.0</td>\n",
       "    </tr>\n",
       "    <tr>\n",
       "      <th>1</th>\n",
       "      <td>32990</td>\n",
       "      <td>38720.0</td>\n",
       "    </tr>\n",
       "    <tr>\n",
       "      <th>2</th>\n",
       "      <td>52990</td>\n",
       "      <td>58432.0</td>\n",
       "    </tr>\n",
       "    <tr>\n",
       "      <th>3</th>\n",
       "      <td>28490</td>\n",
       "      <td>27456.0</td>\n",
       "    </tr>\n",
       "    <tr>\n",
       "      <th>4</th>\n",
       "      <td>63990</td>\n",
       "      <td>58432.0</td>\n",
       "    </tr>\n",
       "  </tbody>\n",
       "</table>\n",
       "</div>"
      ],
      "text/plain": [
       "   Actual  Predicted\n",
       "0   31990    32832.0\n",
       "1   32990    38720.0\n",
       "2   52990    58432.0\n",
       "3   28490    27456.0\n",
       "4   63990    58432.0"
      ]
     },
     "execution_count": 39,
     "metadata": {},
     "output_type": "execute_result"
    }
   ],
   "source": [
    "comptab = pd.DataFrame(data, columns=['Actual', 'Predicted'])\n",
    "comptab.head()"
   ]
  },
  {
   "cell_type": "markdown",
   "id": "18595326",
   "metadata": {},
   "source": [
    "## Testing"
   ]
  },
  {
   "cell_type": "code",
   "execution_count": 40,
   "id": "6b4242f1",
   "metadata": {},
   "outputs": [],
   "source": [
    "l = [0,0,0,0,0,0,0,0,0,0,0,0,0,0,0,0,0,0,0]"
   ]
  },
  {
   "cell_type": "code",
   "execution_count": 42,
   "id": "1ed6f9d0",
   "metadata": {},
   "outputs": [
    {
     "name": "stdout",
     "output_type": "stream",
     "text": [
      "1. AMD Ryzen 3 Dual Core Processor\n",
      "2. AMD Ryzen 5 Hexa Core Processor\n",
      "3. AMD Ryzen 5 Quad Core Processor\n",
      "4. AMD Ryzen 7 Octa Core Processor\n",
      "5. Intel Celeron Dual Core Processor\n",
      "6. Intel Core i3 Processor (10th Gen)\n",
      "7. Intel Core i3 Processor (12th Gen)\n",
      "8. Intel Core i5 Processor (10th Gen)\n",
      "9. Intel Core i5 Processor (11th Gen)\n",
      "10. Intel Core i5 Processor (12th Gen)\n",
      "11. Intel Core i5 Processor (8th Gen)\n",
      "Which Processor would you like to buy? 10\n"
     ]
    }
   ],
   "source": [
    "print('1. AMD Ryzen 3 Dual Core Processor')\n",
    "print('2. AMD Ryzen 5 Hexa Core Processor')\n",
    "print('3. AMD Ryzen 5 Quad Core Processor')\n",
    "print('4. AMD Ryzen 7 Octa Core Processor')\n",
    "print('5. Intel Celeron Dual Core Processor')\n",
    "print('6. Intel Core i3 Processor (10th Gen)')\n",
    "print('7. Intel Core i3 Processor (12th Gen)')\n",
    "print('8. Intel Core i5 Processor (10th Gen)')\n",
    "print('9. Intel Core i5 Processor (11th Gen)')\n",
    "print('10. Intel Core i5 Processor (12th Gen)')\n",
    "print('11. Intel Core i5 Processor (8th Gen)')\n",
    "a = int(input('Which Processor would you like to buy? '))\n",
    "l[a-1] = 1"
   ]
  },
  {
   "cell_type": "code",
   "execution_count": 43,
   "id": "f63cdcd8",
   "metadata": {},
   "outputs": [
    {
     "name": "stdout",
     "output_type": "stream",
     "text": [
      "1. Ram 16GB\n",
      "2. Ram 4GB\n",
      "3. Ram 8GB\n",
      "Which Ram would you like to buy? 1\n"
     ]
    }
   ],
   "source": [
    "print('1. Ram 16GB')\n",
    "print('2. Ram 4GB')\n",
    "print('3. Ram 8GB')\n",
    "b = int(input('Which Ram would you like to buy? '))\n",
    "l[b+10] = 1"
   ]
  },
  {
   "cell_type": "code",
   "execution_count": 44,
   "id": "86cc521f",
   "metadata": {},
   "outputs": [
    {
     "name": "stdout",
     "output_type": "stream",
     "text": [
      "1. 1024 GB HDD\n",
      "2. 1024 GB SSD\n",
      "3. 128 GB SSD\n",
      "4. 256 GB SSD\n",
      "5. 512 GB SSD\n",
      "Which Storage would you like to buy? 5\n"
     ]
    }
   ],
   "source": [
    "print('1. 1024 GB HDD')\n",
    "print('2. 1024 GB SSD')\n",
    "print('3. 128 GB SSD')\n",
    "print('4. 256 GB SSD')\n",
    "print('5. 512 GB SSD')\n",
    "c = int(input('Which Storage would you like to buy? '))\n",
    "l[c+13] = 1"
   ]
  },
  {
   "cell_type": "code",
   "execution_count": 45,
   "id": "58775d4c",
   "metadata": {},
   "outputs": [],
   "source": [
    "\n",
    "x_new = np.array(l).reshape((1, -1))"
   ]
  },
  {
   "cell_type": "code",
   "execution_count": 46,
   "id": "62b5631a",
   "metadata": {},
   "outputs": [
    {
     "name": "stderr",
     "output_type": "stream",
     "text": [
      "C:\\Users\\jainv\\anaconda3\\lib\\site-packages\\sklearn\\base.py:420: UserWarning: X does not have valid feature names, but LinearRegression was fitted with feature names\n",
      "  warnings.warn(\n"
     ]
    }
   ],
   "source": [
    "y_new = model.predict(x_new)"
   ]
  },
  {
   "cell_type": "code",
   "execution_count": 47,
   "id": "50c95b69",
   "metadata": {},
   "outputs": [
    {
     "name": "stdout",
     "output_type": "stream",
     "text": [
      "Predicted Price: 64960.0\n",
      "Actual Price: 63990\n"
     ]
    }
   ],
   "source": [
    "# Intel i5 12gen, 16gb ram and 512gb ssd\n",
    "print('Predicted Price:',y_new[0])\n",
    "print('Actual Price: 63990')"
   ]
  },
  {
   "cell_type": "code",
   "execution_count": null,
   "id": "c93f358c",
   "metadata": {},
   "outputs": [],
   "source": []
  }
 ],
 "metadata": {
  "kernelspec": {
   "display_name": "Python 3 (ipykernel)",
   "language": "python",
   "name": "python3"
  },
  "language_info": {
   "codemirror_mode": {
    "name": "ipython",
    "version": 3
   },
   "file_extension": ".py",
   "mimetype": "text/x-python",
   "name": "python",
   "nbconvert_exporter": "python",
   "pygments_lexer": "ipython3",
   "version": "3.10.9"
  }
 },
 "nbformat": 4,
 "nbformat_minor": 5
}
